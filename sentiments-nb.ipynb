{
 "cells": [
  {
   "cell_type": "markdown",
   "metadata": {},
   "source": [
    "First, import classes defined in sentiments.py (NaiveBayes, MutualInformation, MaxDisc)"
   ]
  },
  {
   "cell_type": "code",
   "execution_count": 10,
   "metadata": {},
   "outputs": [],
   "source": [
    "import sentiments"
   ]
  },
  {
   "cell_type": "code",
   "execution_count": 113,
   "metadata": {},
   "outputs": [
    {
     "data": {
      "text/plain": [
       "<module 'sentiments' from '/Users/coleholcomb/Dropbox/Academics/Classes/COS424/sentiment-analysis/sentiments.py'>"
      ]
     },
     "execution_count": 113,
     "metadata": {},
     "output_type": "execute_result"
    }
   ],
   "source": [
    "import importlib\n",
    "importlib.reload(sentiments)"
   ]
  },
  {
   "cell_type": "markdown",
   "metadata": {},
   "source": [
    "Generate data files associated with feature sets using preprocessSentences.py and sentiments.py"
   ]
  },
  {
   "cell_type": "code",
   "execution_count": 54,
   "metadata": {},
   "outputs": [],
   "source": [
    "import os\n",
    "\n",
    "train = 'train.txt'\n",
    "test = 'test.txt'\n",
    "\n",
    "tf_thresholds = [1,2,3,4,5,7,10,15,20,30,50,70]\n",
    "mi_thresholds = [10,20,50,75,100,200,300,400,500,1000,1621]\n",
    "jd_thresholds = [10,20,50,75,100,200,300,400,500,1000,1621]\n",
    "\n",
    "for i in tf_thresholds:\n",
    "    os.system('python preprocessSentences.py -d '+train+' --threshold '+str(i))\n",
    "    os.system('python preprocessSentences.py -d '+test+' -v \"out_vocab_'+str(i)+'.txt\" -o \"tf_'+str(i)+'_test\"')\n",
    "   \n",
    "full_vocab = open('out_vocab_1.txt', 'r', encoding='utf-8').read(-1).split('\\n')\n",
    "full_features = pd.read_csv('out_bag_of_words_1.csv', sep=',',header=None)\n",
    "labels = np.genfromtxt('out_classes_1.txt', delimiter='\\n')\n",
    "for i in mi_thresholds:\n",
    "    filt = sentiments.MutualInformation(full_features, labels, full_vocab, i)\n",
    "    os.system('python preprocessSentences.py -d '+test+' -v \"mi_'+str(i)+'_vocab_1.txt\" -o \"mi_'+str(i)+'_test\"')\n",
    "\n",
    "for i in jd_thresholds:\n",
    "    filt = sentiments.MaxDisc(full_features, labels, full_vocab, i)\n",
    "    os.system('python preprocessSentences.py -d '+test+' -v \"jd_'+str(i)+'_vocab_1.txt\" -o \"jd_'+str(i)+'_test\"')\n",
    "    "
   ]
  },
  {
   "cell_type": "code",
   "execution_count": 127,
   "metadata": {},
   "outputs": [],
   "source": [
    "import pandas as pd\n",
    "import numpy as np\n",
    "\n",
    "jd_acc = []\n",
    "jd_prec = []\n",
    "jd_rec = []\n",
    "jd_spec = []\n",
    "for i in jd_thresholds:\n",
    "    testfeatures = pd.read_csv('jd_'+str(i)+'_test_bag_of_words_0.csv', sep=',', header=None)\n",
    "    testlabels = np.genfromtxt('jd_'+str(i)+'_test_classes_0.txt', delimiter='\\n')\n",
    "\n",
    "    features=pd.read_csv('jd_'+str(i)+'_bag_of_words_1.csv', sep=',',header=None)\n",
    "    labels = np.genfromtxt('out_classes_1.txt', delimiter='\\n')\n",
    "\n",
    "    nb = sentiments.NaiveBayes()\n",
    "    nb.train(features,labels)\n",
    "    acc, prec, rec, spec = nb.test(testfeatures, testlabels)\n",
    "    jd_acc.append((i, acc))\n",
    "    jd_prec.append((i, prec))\n",
    "    jd_rec.append((i, rec))\n",
    "    jd_spec.append((i, spec))\n",
    "\n",
    "mi_acc = []\n",
    "mi_prec = []\n",
    "mi_rec = []\n",
    "mi_spec = []\n",
    "for i in mi_thresholds:\n",
    "    testfeatures = pd.read_csv('mi_'+str(i)+'_test_bag_of_words_0.csv', sep=',', header=None)\n",
    "    testlabels = np.genfromtxt('mi_'+str(i)+'_test_classes_0.txt', delimiter='\\n')\n",
    "\n",
    "    features=pd.read_csv('mi_'+str(i)+'_bag_of_words_1.csv', sep=',',header=None)\n",
    "    labels = np.genfromtxt('out_classes_1.txt', delimiter='\\n')\n",
    "\n",
    "    nb = sentiments.NaiveBayes()\n",
    "    nb.train(features,labels)\n",
    "    acc, prec, rec, spec = nb.test(testfeatures, testlabels)\n",
    "    mi_acc.append((i, acc))\n",
    "    mi_prec.append((i, prec))\n",
    "    mi_rec.append((i, rec))\n",
    "    mi_spec.append((i, spec))\n",
    "\n",
    "tf_acc = []\n",
    "tf_prec = []\n",
    "tf_rec = []\n",
    "tf_spec = []\n",
    "tf_nfeatures = []\n",
    "for i in tf_thresholds:\n",
    "    testfeatures = pd.read_csv('tf_'+str(i)+'_test_bag_of_words_0.csv', sep=',', header=None)\n",
    "    testlabels = np.genfromtxt('tf_'+str(i)+'_test_classes_0.txt', delimiter='\\n')\n",
    "\n",
    "    features=pd.read_csv('out_bag_of_words_'+str(i)+'.csv', sep=',',header=None)\n",
    "    labels = np.genfromtxt('out_classes_'+str(i)+'.txt', delimiter='\\n')\n",
    "\n",
    "    nb = sentiments.NaiveBayes()\n",
    "    nb.train(features,labels)\n",
    "    acc, prec, rec, spec = nb.test(testfeatures, testlabels)\n",
    "    tf_acc.append((nb.nfeatures, acc))\n",
    "    tf_prec.append((nb.nfeatures, prec))\n",
    "    tf_rec.append((nb.nfeatures, rec))\n",
    "    tf_spec.append((nb.nfeatures, spec))\n",
    "    tf_nfeatures.append((i, nb.nfeatures))"
   ]
  },
  {
   "cell_type": "code",
   "execution_count": 128,
   "metadata": {},
   "outputs": [
    {
     "name": "stdout",
     "output_type": "stream",
     "text": [
      "(1621, 0.8083333333333333)\n",
      "(1621, 0.8178694158075601)\n",
      "(1621, 0.7933333333333333)\n",
      "(1621, 0.8233333333333334)\n",
      "(28, 0.6466666666666666)\n",
      "(28, 0.7528735632183908)\n",
      "(28, 0.43666666666666665)\n",
      "(28, 0.8566666666666667)\n"
     ]
    }
   ],
   "source": [
    "print(tf_acc[0])\n",
    "print(tf_prec[0])\n",
    "print(tf_rec[0])\n",
    "print(tf_spec[0])\n",
    "\n",
    "\n",
    "print(tf_acc[10])\n",
    "print(tf_prec[10])\n",
    "print(tf_rec[10])\n",
    "print(tf_spec[10])"
   ]
  },
  {
   "cell_type": "markdown",
   "metadata": {},
   "source": [
    "Produce accuracy, precision, recall, specificity plots for varying number of features included"
   ]
  },
  {
   "cell_type": "code",
   "execution_count": 147,
   "metadata": {},
   "outputs": [
    {
     "name": "stderr",
     "output_type": "stream",
     "text": [
      "/Users/coleholcomb/anaconda3/lib/python3.6/site-packages/matplotlib/figure.py:402: UserWarning: matplotlib is currently using a non-GUI backend, so cannot show the figure\n",
      "  \"matplotlib is currently using a non-GUI backend, \"\n"
     ]
    }
   ],
   "source": [
    "import matplotlib.pyplot as plt\n",
    "\n",
    "f, ((acc, prec),(rec, spec)) = plt.subplots(2,2)\n",
    "\n",
    "acc.plot([x[0] for x in jd_acc], [x[1] for x in jd_acc], label='JD')\n",
    "acc.plot([x[0] for x in mi_acc], [x[1] for x in mi_acc], label='MI')\n",
    "acc.plot([x[0] for x in tf_acc], [x[1] for x in tf_acc], label='TF')\n",
    "acc.scatter([x[0] for x in jd_acc], [x[1] for x in jd_acc])\n",
    "acc.scatter([x[0] for x in mi_acc], [x[1] for x in mi_acc])\n",
    "acc.scatter([x[0] for x in tf_acc], [x[1] for x in tf_acc])\n",
    "acc.set_xscale('log')\n",
    "acc.set_xlabel('# of features')\n",
    "acc.set_ylabel('Accuracy')\n",
    "acc.legend()\n",
    "\n",
    "prec.plot([x[0] for x in jd_acc], [x[1] for x in jd_prec], label='JD')\n",
    "prec.plot([x[0] for x in mi_acc], [x[1] for x in mi_prec], label='MI')\n",
    "prec.plot([x[0] for x in tf_acc], [x[1] for x in tf_prec], label='TF')\n",
    "prec.scatter([x[0] for x in jd_acc], [x[1] for x in jd_prec])\n",
    "prec.scatter([x[0] for x in mi_acc], [x[1] for x in mi_prec])\n",
    "prec.scatter([x[0] for x in tf_acc], [x[1] for x in tf_prec])\n",
    "prec.set_xscale('log')\n",
    "prec.set_xlabel('# of features')\n",
    "prec.set_ylabel('Precision')\n",
    "prec.yaxis.set_label_position(\"right\")\n",
    "prec.yaxis.tick_right()\n",
    "\n",
    "rec.plot([x[0] for x in jd_acc], [x[1] for x in jd_rec], label='JD')\n",
    "rec.plot([x[0] for x in mi_acc], [x[1] for x in mi_rec], label='MI')\n",
    "rec.plot([x[0] for x in tf_acc], [x[1] for x in tf_rec], label='TF')\n",
    "rec.scatter([x[0] for x in jd_acc], [x[1] for x in jd_rec])\n",
    "rec.scatter([x[0] for x in mi_acc], [x[1] for x in mi_rec])\n",
    "rec.scatter([x[0] for x in tf_acc], [x[1] for x in tf_rec])\n",
    "rec.set_xscale('log')\n",
    "rec.set_xlabel('# of features')\n",
    "rec.set_ylabel('Recall')\n",
    "\n",
    "spec.plot([x[0] for x in jd_acc], [x[1] for x in jd_spec], label='JD')\n",
    "spec.plot([x[0] for x in mi_acc], [x[1] for x in mi_spec], label='MI')\n",
    "spec.plot([x[0] for x in tf_acc], [x[1] for x in tf_spec], label='TF')\n",
    "spec.scatter([x[0] for x in jd_acc], [x[1] for x in jd_spec])\n",
    "spec.scatter([x[0] for x in mi_acc], [x[1] for x in mi_spec])\n",
    "spec.scatter([x[0] for x in tf_acc], [x[1] for x in tf_spec])\n",
    "spec.set_xscale('log')\n",
    "spec.set_xlabel('# of features')\n",
    "spec.set_ylabel('Specificity')\n",
    "spec.yaxis.set_label_position(\"right\")\n",
    "spec.yaxis.tick_right()\n",
    "\n",
    "f.savefig('NB-all.jpeg')\n",
    "f.show()"
   ]
  },
  {
   "cell_type": "code",
   "execution_count": 130,
   "metadata": {},
   "outputs": [
    {
     "data": {
      "image/png": "[encoded data removed]",
      "text/plain": [
       "<matplotlib.figure.Figure at 0x10fcdd128>"
      ]
     },
     "metadata": {},
     "output_type": "display_data"
    }
   ],
   "source": [
    "plt.plot([x[0] for x in jd_acc], [x[1] for x in jd_prec], label='JD')\n",
    "plt.plot([x[0] for x in mi_acc], [x[1] for x in mi_prec], label='MI')\n",
    "plt.plot([x[0] for x in tf_acc], [x[1] for x in tf_prec], label='TF')\n",
    "plt.scatter([x[0] for x in jd_acc], [x[1] for x in jd_prec])\n",
    "plt.scatter([x[0] for x in mi_acc], [x[1] for x in mi_prec])\n",
    "plt.scatter([x[0] for x in tf_acc], [x[1] for x in tf_prec])\n",
    "plt.xscale('log')\n",
    "plt.xlabel('# of features')\n",
    "plt.ylabel('Precision')\n",
    "plt.legend()\n",
    "plt.savefig('NB-Precision.jpeg')\n",
    "plt.show()"
   ]
  },
  {
   "cell_type": "code",
   "execution_count": 131,
   "metadata": {},
   "outputs": [
    {
     "data": {
      "image/png": "[encoded data removed]",
      "text/plain": [
       "<matplotlib.figure.Figure at 0x1126c36a0>"
      ]
     },
     "metadata": {},
     "output_type": "display_data"
    }
   ],
   "source": [
    "plt.plot([x[0] for x in jd_acc], [x[1] for x in jd_rec], label='JD')\n",
    "plt.plot([x[0] for x in mi_acc], [x[1] for x in mi_rec], label='MI')\n",
    "plt.plot([x[0] for x in tf_acc], [x[1] for x in tf_rec], label='TF')\n",
    "plt.scatter([x[0] for x in jd_acc], [x[1] for x in jd_rec])\n",
    "plt.scatter([x[0] for x in mi_acc], [x[1] for x in mi_rec])\n",
    "plt.scatter([x[0] for x in tf_acc], [x[1] for x in tf_rec])\n",
    "plt.xscale('log')\n",
    "plt.xlabel('# of features')\n",
    "plt.ylabel('Recall')\n",
    "plt.legend()\n",
    "plt.savefig('NB-Recall.jpeg')\n",
    "plt.show()"
   ]
  },
  {
   "cell_type": "code",
   "execution_count": 132,
   "metadata": {},
   "outputs": [
    {
     "data": {
      "image/png": "[encoded data removed]",
      "text/plain": [
       "<matplotlib.figure.Figure at 0x10f518b70>"
      ]
     },
     "metadata": {},
     "output_type": "display_data"
    }
   ],
   "source": [
    "plt.plot([x[0] for x in jd_acc], [x[1] for x in jd_spec], label='JD')\n",
    "plt.plot([x[0] for x in mi_acc], [x[1] for x in mi_spec], label='MI')\n",
    "plt.plot([x[0] for x in tf_acc], [x[1] for x in tf_spec], label='TF')\n",
    "plt.scatter([x[0] for x in jd_acc], [x[1] for x in jd_spec])\n",
    "plt.scatter([x[0] for x in mi_acc], [x[1] for x in mi_spec])\n",
    "plt.scatter([x[0] for x in tf_acc], [x[1] for x in tf_spec])\n",
    "plt.xscale('log')\n",
    "plt.xlabel('# of features')\n",
    "plt.ylabel('Specificity')\n",
    "plt.legend()\n",
    "plt.savefig('NB-Specificity.jpeg')\n",
    "plt.show()"
   ]
  },
  {
   "cell_type": "code",
   "execution_count": 94,
   "metadata": {},
   "outputs": [
    {
     "name": "stdout",
     "output_type": "stream",
     "text": [
      "Percentage correct:         0.57\n",
      "Percentage incorrect:       0.43\n",
      "Precision          :        0.9375\n",
      "Recall true positives:      0.15\n",
      "Specificity true negatives: 0.99\n",
      "rate false positives:       0.01\n",
      "rate false negatives:       0.85\n",
      "f1                  :       0.25862068965517243\n",
      "\n",
      "\n",
      "Percentage correct:         0.7883333333333333\n",
      "Percentage incorrect:       0.21166666666666667\n",
      "Precision          :        0.8239700374531835\n",
      "Recall true positives:      0.7333333333333333\n",
      "Specificity true negatives: 0.8433333333333334\n",
      "rate false positives:       0.15666666666666668\n",
      "rate false negatives:       0.26666666666666666\n",
      "f1                  :       0.7760141093474426\n"
     ]
    }
   ],
   "source": [
    "from sklearn.svm import SVC, LinearSVC\n",
    "\n",
    "testfeatures = pd.read_csv('tf_1_test_bag_of_words_0.csv', sep=',', header=None)\n",
    "testlabels = np.genfromtxt('tf_1_test_classes_0.txt', delimiter='\\n')\n",
    "\n",
    "features=pd.read_csv('out_bag_of_words_1.csv', sep=',',header=None)\n",
    "labels = np.genfromtxt('out_classes_1.txt', delimiter='\\n')\n",
    "\n",
    "svc = SVC()\n",
    "svc.fit(features, labels)\n",
    "\n",
    "linsvc = LinearSVC()\n",
    "linsvc.fit(features, labels) \n",
    "testpred = svc.predict(testfeatures)\n",
    "ntest = testlabels.shape[0]\n",
    "correct, false = 0, 0\n",
    "tp, fp, tn, fn = 0, 0, 0, 0\n",
    "for i in range(ntest):\n",
    "    if testpred[i] == testlabels[i]:\n",
    "        correct += 1\n",
    "        if testlabels[i] == 1:\n",
    "            tp += 1\n",
    "        else:\n",
    "            tn += 1\n",
    "    elif testpred[i] == 1:\n",
    "        fp += 1\n",
    "        false += 1\n",
    "    else:\n",
    "        fn +=1\n",
    "        false +=1\n",
    "\n",
    "print('Percentage correct:         {}'.format(correct/ntest))\n",
    "print('Percentage incorrect:       {}'.format(false/ntest))\n",
    "print('Precision          :        {}'.format(tp/(tp + fp)))\n",
    "print('Recall true positives:      {}'.format(tp/(tp + fn)))\n",
    "print('Specificity true negatives: {}'.format(tn/(tn + fp)))\n",
    "print('rate false positives:       {}'.format(fp/(fp + tn)))\n",
    "print('rate false negatives:       {}'.format(fn/(fn + tp)))\n",
    "print('f1                  :       {}'.format(2*(tp/(tp+fn))*(tp/(tp + fp))/((tp/(tp + fn))+(tp/(tp + fp)))))\n",
    "print('\\n')\n",
    "\n",
    "testpred = linsvc.predict(testfeatures)\n",
    "ntest = testlabels.shape[0]\n",
    "correct, false = 0, 0\n",
    "tp, fp, tn, fn = 0, 0, 0, 0\n",
    "for i in range(ntest):\n",
    "    if testpred[i] == testlabels[i]:\n",
    "        correct += 1\n",
    "        if testlabels[i] == 1:\n",
    "            tp += 1\n",
    "        else:\n",
    "            tn += 1\n",
    "    elif testpred[i] == 1:\n",
    "        fp += 1\n",
    "        false += 1\n",
    "    else:\n",
    "        fn +=1\n",
    "        false +=1\n",
    "\n",
    "print('Percentage correct:         {}'.format(correct/ntest))\n",
    "print('Percentage incorrect:       {}'.format(false/ntest))\n",
    "print('Precision          :        {}'.format(tp/(tp + fp)))\n",
    "print('Recall true positives:      {}'.format(tp/(tp + fn)))\n",
    "print('Specificity true negatives: {}'.format(tn/(tn + fp)))\n",
    "print('rate false positives:       {}'.format(fp/(fp + tn)))\n",
    "print('rate false negatives:       {}'.format(fn/(fn + tp)))\n",
    "print('f1                  :       {}'.format(2*(tp/(tp+fn))*(tp/(tp + fp))/((tp/(tp + fn))+(tp/(tp + fp)))))\n",
    "\n"
   ]
  },
  {
   "cell_type": "code",
   "execution_count": 108,
   "metadata": {},
   "outputs": [
    {
     "name": "stdout",
     "output_type": "stream",
     "text": [
      "Percentage correct:         0.755\n",
      "Percentage incorrect:       0.245\n",
      "Precision          :        0.7610921501706485\n",
      "Recall true positives:      0.7433333333333333\n",
      "Specificity true negatives: 0.7666666666666667\n",
      "rate false positives:       0.23333333333333334\n",
      "rate false negatives:       0.25666666666666665\n",
      "f1                  :       0.7521079258010118\n",
      "\n",
      "\n",
      "Percentage correct:         0.7583333333333333\n",
      "Percentage incorrect:       0.24166666666666667\n",
      "Precision          :        0.7818181818181819\n",
      "Recall true positives:      0.7166666666666667\n",
      "Specificity true negatives: 0.8\n",
      "rate false positives:       0.2\n",
      "rate false negatives:       0.2833333333333333\n",
      "f1                  :       0.7478260869565218\n",
      "\n",
      "\n",
      "Top ten most predictive words according to DT:\n",
      "[('great', 0.060656820104629312), ('love', 0.027639964937479184), ('good', 0.025490697778373119), ('excel', 0.021237608713509624), ('bad', 0.021123804256242152), ('nice', 0.014161566947156116), ('best', 0.013720137889676036), ('amaz', 0.011775654482056766), ('go', 0.011622149327051497), ('delici', 0.011194657882002081)]\n",
      "[('great', 0.052547679780004228), ('love', 0.023449240363772498), ('bad', 0.02184694518255376), ('good', 0.018579195720468965), ('excel', 0.017774779167391952), ('nice', 0.011795555892803631), ('disappoint', 0.010842474625750902), ('amaz', 0.010533107157850795), ('best', 0.0099286467838546402), ('delici', 0.0095050795884899821)]\n"
     ]
    }
   ],
   "source": [
    "from sklearn.tree import DecisionTreeClassifier\n",
    "from operator import itemgetter\n",
    "\n",
    "dtgini = DecisionTreeClassifier()\n",
    "dtgini.fit(features, labels)\n",
    "\n",
    "dtentropy = DecisionTreeClassifier(criterion='entropy')\n",
    "dtentropy.fit(features, labels) \n",
    "\n",
    "#%%\n",
    "testpred = dtgini.predict(testfeatures)\n",
    "ntest = testlabels.shape[0]\n",
    "correct, false = 0, 0\n",
    "tp, fp, tn, fn = 0, 0, 0, 0\n",
    "for i in range(ntest):\n",
    "    if testpred[i] == testlabels[i]:\n",
    "        correct += 1\n",
    "        if testlabels[i] == 1:\n",
    "            tp += 1\n",
    "        else:\n",
    "            tn += 1\n",
    "    elif testpred[i] == 1:\n",
    "        fp += 1\n",
    "        false += 1\n",
    "    else:\n",
    "        fn +=1\n",
    "        false +=1\n",
    "\n",
    "print('Percentage correct:         {}'.format(correct/ntest))\n",
    "print('Percentage incorrect:       {}'.format(false/ntest))\n",
    "print('Precision          :        {}'.format(tp/(tp + fp)))\n",
    "print('Recall true positives:      {}'.format(tp/(tp + fn)))\n",
    "print('Specificity true negatives: {}'.format(tn/(tn + fp)))\n",
    "print('rate false positives:       {}'.format(fp/(fp + tn)))\n",
    "print('rate false negatives:       {}'.format(fn/(fn + tp)))\n",
    "print('f1                  :       {}'.format(2*(tp/(tp+fn))*(tp/(tp + fp))/((tp/(tp + fn))+(tp/(tp + fp)))))\n",
    "print('\\n')\n",
    "\n",
    "testpred = dtentropy.predict(testfeatures)\n",
    "ntest = testlabels.shape[0]\n",
    "correct, false = 0, 0\n",
    "tp, fp, tn, fn = 0, 0, 0, 0\n",
    "for i in range(ntest):\n",
    "    if testpred[i] == testlabels[i]:\n",
    "        correct += 1\n",
    "        if testlabels[i] == 1:\n",
    "            tp += 1\n",
    "        else:\n",
    "            tn += 1\n",
    "    elif testpred[i] == 1:\n",
    "        fp += 1\n",
    "        false += 1\n",
    "    else:\n",
    "        fn +=1\n",
    "        false +=1\n",
    "\n",
    "print('Percentage correct:         {}'.format(correct/ntest))\n",
    "print('Percentage incorrect:       {}'.format(false/ntest))\n",
    "print('Precision          :        {}'.format(tp/(tp + fp)))\n",
    "print('Recall true positives:      {}'.format(tp/(tp + fn)))\n",
    "print('Specificity true negatives: {}'.format(tn/(tn + fp)))\n",
    "print('rate false positives:       {}'.format(fp/(fp + tn)))\n",
    "print('rate false negatives:       {}'.format(fn/(fn + tp)))\n",
    "print('f1                  :       {}'.format(2*(tp/(tp+fn))*(tp/(tp + fp))/((tp/(tp + fn))+(tp/(tp + fp)))))\n",
    "print('\\n')\n",
    "\n",
    "word_importance_gini = [(x,y) for x,y in zip(full_vocab, dtgini.feature_importances_)]\n",
    "word_importance_entr = [(x,y) for x,y in zip(full_vocab, dtentropy.feature_importances_)]\n",
    "print('Top ten most predictive words according to DT:')\n",
    "print(sorted(word_importance_gini, key=itemgetter(1), reverse=True)[:10])\n",
    "print(sorted(word_importance_entr, key=itemgetter(1), reverse=True)[:10])"
   ]
  }
 ],
 "metadata": {
  "kernelspec": {
   "display_name": "Python 3",
   "language": "python",
   "name": "python3"
  },
  "language_info": {
   "codemirror_mode": {
    "name": "ipython",
    "version": 3
   },
   "file_extension": ".py",
   "mimetype": "text/x-python",
   "name": "python",
   "nbconvert_exporter": "python",
   "pygments_lexer": "ipython3",
   "version": "3.6.0"
  }
 },
 "nbformat": 4,
 "nbformat_minor": 2
}
